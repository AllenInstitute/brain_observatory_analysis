{
 "cells": [
  {
   "cell_type": "code",
   "execution_count": null,
   "metadata": {},
   "outputs": [],
   "source": [
    "from brain_observatory_analysis.ophys.experiment_loading import get_ophys_expt, start_lamf_analysis\n",
    "\n",
    "import brain_observatory_analysis.ophys.stimulus_response as sr\n",
    "from brain_observatory_analysis.ophys.experiment_group import ExperimentGroup\n",
    "\n",
    "\n",
    "\n",
    "expt_table = start_lamf_analysis(verbose=True)"
   ]
  },
  {
   "attachments": {},
   "cell_type": "markdown",
   "metadata": {},
   "source": [
    "# Get Experiment Group of interest"
   ]
  },
  {
   "cell_type": "code",
   "execution_count": 2,
   "metadata": {},
   "outputs": [
    {
     "name": "stdout",
     "output_type": "stream",
     "text": [
      "mouse_name ['Copper']\n",
      "targeted_structure ['VISp']\n",
      "tiny_session_type_num ['FIO1', 'FIO2', 'NIO1', 'NIO2', 'NIE1']\n",
      "Found 10 experiments matching filters\n",
      "Loading expt: 1193401845\n",
      "Loading expt: 1192574841\n",
      "Loading expt: 1193675218\n",
      "Loading expt: 1192773595\n",
      "\n",
      "Loading expt: 1192574838\n",
      "\n",
      "Loading expt: 1193675220\n",
      "\n",
      "Loading expt: 1193401843\n",
      "Loading expt: 1192773597\n",
      "\n",
      "\n",
      "\n",
      "\n",
      "Loading expt: 1193067622\n",
      "\n",
      "\n",
      "Loading expt: 1193067624\n",
      "\n"
     ]
    },
    {
     "name": "stderr",
     "output_type": "stream",
     "text": [
      "/home/matt.davis/code/AllenSDK/allensdk/brain_observatory/behavior/data_objects/stimuli/util.py:63: UserWarning: Monitory delay calculation failed with ValueError\n",
      "    \"No photodiode events found. Please check the input data for errors. \"\n",
      "looking monitor delay up from table for rig: MESO.2 \n",
      "delay: 0.03613 seconds\n",
      "  warnings.warn(warning_msg)\n",
      "/home/matt.davis/code/AllenSDK/allensdk/brain_observatory/behavior/data_objects/stimuli/util.py:63: UserWarning: Monitory delay calculation failed with ValueError\n",
      "    \"No photodiode events found. Please check the input data for errors. \"\n",
      "looking monitor delay up from table for rig: MESO.2 \n",
      "delay: 0.03613 seconds\n",
      "  warnings.warn(warning_msg)\n",
      "/home/matt.davis/code/AllenSDK/allensdk/brain_observatory/behavior/data_objects/stimuli/util.py:63: UserWarning: Monitory delay calculation failed with ValueError\n",
      "    \"No photodiode events found. Please check the input data for errors. \"\n",
      "looking monitor delay up from table for rig: MESO.2 \n",
      "delay: 0.03613 seconds\n",
      "  warnings.warn(warning_msg)\n",
      "/home/matt.davis/code/AllenSDK/allensdk/brain_observatory/behavior/data_objects/stimuli/util.py:63: UserWarning: Monitory delay calculation failed with ValueError\n",
      "    \"No photodiode events found. Please check the input data for errors. \"\n",
      "looking monitor delay up from table for rig: MESO.2 \n",
      "delay: 0.03613 seconds\n",
      "  warnings.warn(warning_msg)\n",
      "/home/matt.davis/code/AllenSDK/allensdk/brain_observatory/behavior/data_objects/stimuli/presentations.py:48: FutureWarning: pandas.Int64Index is deprecated and will be removed from pandas in a future version. Use pandas.Index with the appropriate dtype instead.\n",
      "  presentations.index = pd.Int64Index(\n",
      "/home/matt.davis/code/AllenSDK/allensdk/brain_observatory/behavior/data_objects/stimuli/presentations.py:48: FutureWarning: pandas.Int64Index is deprecated and will be removed from pandas in a future version. Use pandas.Index with the appropriate dtype instead.\n",
      "  presentations.index = pd.Int64Index(\n",
      "/home/matt.davis/code/AllenSDK/allensdk/brain_observatory/behavior/data_objects/stimuli/presentations.py:48: FutureWarning: pandas.Int64Index is deprecated and will be removed from pandas in a future version. Use pandas.Index with the appropriate dtype instead.\n",
      "  presentations.index = pd.Int64Index(\n",
      "/home/matt.davis/code/AllenSDK/allensdk/brain_observatory/behavior/data_objects/stimuli/presentations.py:48: FutureWarning: pandas.Int64Index is deprecated and will be removed from pandas in a future version. Use pandas.Index with the appropriate dtype instead.\n",
      "  presentations.index = pd.Int64Index(\n",
      "/home/matt.davis/code/AllenSDK/allensdk/brain_observatory/behavior/data_objects/stimuli/presentations.py:48: FutureWarning: pandas.Int64Index is deprecated and will be removed from pandas in a future version. Use pandas.Index with the appropriate dtype instead.\n",
      "  presentations.index = pd.Int64Index(\n",
      "/home/matt.davis/code/AllenSDK/allensdk/brain_observatory/behavior/data_objects/stimuli/presentations.py:48: FutureWarning: pandas.Int64Index is deprecated and will be removed from pandas in a future version. Use pandas.Index with the appropriate dtype instead.\n",
      "  presentations.index = pd.Int64Index(\n",
      "/home/matt.davis/code/AllenSDK/allensdk/brain_observatory/behavior/data_objects/stimuli/presentations.py:48: FutureWarning: pandas.Int64Index is deprecated and will be removed from pandas in a future version. Use pandas.Index with the appropriate dtype instead.\n",
      "  presentations.index = pd.Int64Index(\n",
      "/home/matt.davis/code/AllenSDK/allensdk/brain_observatory/behavior/data_objects/stimuli/presentations.py:48: FutureWarning: pandas.Int64Index is deprecated and will be removed from pandas in a future version. Use pandas.Index with the appropriate dtype instead.\n",
      "  presentations.index = pd.Int64Index(\n",
      "/home/matt.davis/code/AllenSDK/allensdk/brain_observatory/behavior/data_objects/stimuli/presentations.py:48: FutureWarning: pandas.Int64Index is deprecated and will be removed from pandas in a future version. Use pandas.Index with the appropriate dtype instead.\n",
      "  presentations.index = pd.Int64Index(\n",
      "/home/matt.davis/code/AllenSDK/allensdk/brain_observatory/behavior/data_objects/stimuli/presentations.py:48: FutureWarning: pandas.Int64Index is deprecated and will be removed from pandas in a future version. Use pandas.Index with the appropriate dtype instead.\n",
      "  presentations.index = pd.Int64Index(\n",
      "/home/matt.davis/code/AllenSDK/allensdk/brain_observatory/behavior/data_objects/eye_tracking/rig_geometry.py:233: UserWarning: pandas only supports SQLAlchemy connectable (engine/connection) or database string URI or sqlite3 DBAPI2 connection. Other DBAPI2 objects are not tested. Please consider using SQLAlchemy.\n",
      "  rig_geometry = pd.read_sql(query, lims_db.get_connection())\n",
      "/home/matt.davis/code/AllenSDK/allensdk/brain_observatory/behavior/data_objects/cell_specimens/cell_specimens.py:260: UserWarning: pandas only supports SQLAlchemy connectable (engine/connection) or database string URI or sqlite3 DBAPI2 connection. Other DBAPI2 objects are not tested. Please consider using SQLAlchemy.\n",
      "  initial_cs_table = pd.read_sql(query, lims_db.get_connection())\n",
      "/home/matt.davis/code/AllenSDK/allensdk/brain_observatory/behavior/data_objects/eye_tracking/rig_geometry.py:233: UserWarning: pandas only supports SQLAlchemy connectable (engine/connection) or database string URI or sqlite3 DBAPI2 connection. Other DBAPI2 objects are not tested. Please consider using SQLAlchemy.\n",
      "  rig_geometry = pd.read_sql(query, lims_db.get_connection())\n"
     ]
    },
    {
     "name": "stdout",
     "output_type": "stream",
     "text": [
      "EVENTS SKIPPED\n"
     ]
    },
    {
     "name": "stderr",
     "output_type": "stream",
     "text": [
      "/home/matt.davis/code/AllenSDK/allensdk/brain_observatory/behavior/data_objects/cell_specimens/cell_specimens.py:260: UserWarning: pandas only supports SQLAlchemy connectable (engine/connection) or database string URI or sqlite3 DBAPI2 connection. Other DBAPI2 objects are not tested. Please consider using SQLAlchemy.\n",
      "  initial_cs_table = pd.read_sql(query, lims_db.get_connection())\n",
      "/home/matt.davis/code/AllenSDK/allensdk/brain_observatory/behavior/data_objects/eye_tracking/rig_geometry.py:233: UserWarning: pandas only supports SQLAlchemy connectable (engine/connection) or database string URI or sqlite3 DBAPI2 connection. Other DBAPI2 objects are not tested. Please consider using SQLAlchemy.\n",
      "  rig_geometry = pd.read_sql(query, lims_db.get_connection())\n",
      "/home/matt.davis/code/AllenSDK/allensdk/brain_observatory/behavior/data_objects/eye_tracking/rig_geometry.py:233: UserWarning: pandas only supports SQLAlchemy connectable (engine/connection) or database string URI or sqlite3 DBAPI2 connection. Other DBAPI2 objects are not tested. Please consider using SQLAlchemy.\n",
      "  rig_geometry = pd.read_sql(query, lims_db.get_connection())\n",
      "/home/matt.davis/code/AllenSDK/allensdk/brain_observatory/behavior/data_objects/cell_specimens/cell_specimens.py:260: UserWarning: pandas only supports SQLAlchemy connectable (engine/connection) or database string URI or sqlite3 DBAPI2 connection. Other DBAPI2 objects are not tested. Please consider using SQLAlchemy.\n",
      "  initial_cs_table = pd.read_sql(query, lims_db.get_connection())\n",
      "/home/matt.davis/code/AllenSDK/allensdk/brain_observatory/behavior/data_objects/cell_specimens/cell_specimens.py:260: UserWarning: pandas only supports SQLAlchemy connectable (engine/connection) or database string URI or sqlite3 DBAPI2 connection. Other DBAPI2 objects are not tested. Please consider using SQLAlchemy.\n",
      "  initial_cs_table = pd.read_sql(query, lims_db.get_connection())\n",
      "/home/matt.davis/code/AllenSDK/allensdk/brain_observatory/behavior/data_objects/eye_tracking/rig_geometry.py:233: UserWarning: pandas only supports SQLAlchemy connectable (engine/connection) or database string URI or sqlite3 DBAPI2 connection. Other DBAPI2 objects are not tested. Please consider using SQLAlchemy.\n",
      "  rig_geometry = pd.read_sql(query, lims_db.get_connection())\n",
      "/home/matt.davis/code/AllenSDK/allensdk/brain_observatory/behavior/data_objects/eye_tracking/rig_geometry.py:233: UserWarning: pandas only supports SQLAlchemy connectable (engine/connection) or database string URI or sqlite3 DBAPI2 connection. Other DBAPI2 objects are not tested. Please consider using SQLAlchemy.\n",
      "  rig_geometry = pd.read_sql(query, lims_db.get_connection())\n",
      "/home/matt.davis/code/AllenSDK/allensdk/brain_observatory/behavior/data_objects/eye_tracking/rig_geometry.py:233: UserWarning: pandas only supports SQLAlchemy connectable (engine/connection) or database string URI or sqlite3 DBAPI2 connection. Other DBAPI2 objects are not tested. Please consider using SQLAlchemy.\n",
      "  rig_geometry = pd.read_sql(query, lims_db.get_connection())\n"
     ]
    },
    {
     "name": "stdout",
     "output_type": "stream",
     "text": [
      "EVENTS SKIPPED\n"
     ]
    },
    {
     "name": "stderr",
     "output_type": "stream",
     "text": [
      "/home/matt.davis/code/AllenSDK/allensdk/brain_observatory/behavior/data_objects/cell_specimens/cell_specimens.py:260: UserWarning: pandas only supports SQLAlchemy connectable (engine/connection) or database string URI or sqlite3 DBAPI2 connection. Other DBAPI2 objects are not tested. Please consider using SQLAlchemy.\n",
      "  initial_cs_table = pd.read_sql(query, lims_db.get_connection())\n",
      "/home/matt.davis/code/AllenSDK/allensdk/brain_observatory/behavior/data_objects/cell_specimens/cell_specimens.py:260: UserWarning: pandas only supports SQLAlchemy connectable (engine/connection) or database string URI or sqlite3 DBAPI2 connection. Other DBAPI2 objects are not tested. Please consider using SQLAlchemy.\n",
      "  initial_cs_table = pd.read_sql(query, lims_db.get_connection())\n",
      "/home/matt.davis/code/AllenSDK/allensdk/brain_observatory/behavior/data_objects/cell_specimens/cell_specimens.py:260: UserWarning: pandas only supports SQLAlchemy connectable (engine/connection) or database string URI or sqlite3 DBAPI2 connection. Other DBAPI2 objects are not tested. Please consider using SQLAlchemy.\n",
      "  initial_cs_table = pd.read_sql(query, lims_db.get_connection())\n",
      "/home/matt.davis/code/AllenSDK/allensdk/brain_observatory/behavior/data_objects/eye_tracking/rig_geometry.py:233: UserWarning: pandas only supports SQLAlchemy connectable (engine/connection) or database string URI or sqlite3 DBAPI2 connection. Other DBAPI2 objects are not tested. Please consider using SQLAlchemy.\n",
      "  rig_geometry = pd.read_sql(query, lims_db.get_connection())\n",
      "/home/matt.davis/code/AllenSDK/allensdk/brain_observatory/behavior/data_objects/eye_tracking/rig_geometry.py:233: UserWarning: pandas only supports SQLAlchemy connectable (engine/connection) or database string URI or sqlite3 DBAPI2 connection. Other DBAPI2 objects are not tested. Please consider using SQLAlchemy.\n",
      "  rig_geometry = pd.read_sql(query, lims_db.get_connection())\n",
      "/home/matt.davis/code/AllenSDK/allensdk/brain_observatory/behavior/data_objects/eye_tracking/rig_geometry.py:233: UserWarning: pandas only supports SQLAlchemy connectable (engine/connection) or database string URI or sqlite3 DBAPI2 connection. Other DBAPI2 objects are not tested. Please consider using SQLAlchemy.\n",
      "  rig_geometry = pd.read_sql(query, lims_db.get_connection())\n",
      "/home/matt.davis/code/AllenSDK/allensdk/brain_observatory/behavior/data_objects/cell_specimens/cell_specimens.py:260: UserWarning: pandas only supports SQLAlchemy connectable (engine/connection) or database string URI or sqlite3 DBAPI2 connection. Other DBAPI2 objects are not tested. Please consider using SQLAlchemy.\n",
      "  initial_cs_table = pd.read_sql(query, lims_db.get_connection())\n",
      "/home/matt.davis/code/AllenSDK/allensdk/brain_observatory/behavior/data_objects/cell_specimens/cell_specimens.py:260: UserWarning: pandas only supports SQLAlchemy connectable (engine/connection) or database string URI or sqlite3 DBAPI2 connection. Other DBAPI2 objects are not tested. Please consider using SQLAlchemy.\n",
      "  initial_cs_table = pd.read_sql(query, lims_db.get_connection())\n"
     ]
    },
    {
     "name": "stdout",
     "output_type": "stream",
     "text": [
      "EVENTS SKIPPEDEVENTS SKIPPED\n",
      "\n"
     ]
    },
    {
     "name": "stderr",
     "output_type": "stream",
     "text": [
      "/home/matt.davis/code/AllenSDK/allensdk/brain_observatory/behavior/data_objects/cell_specimens/cell_specimens.py:260: UserWarning: pandas only supports SQLAlchemy connectable (engine/connection) or database string URI or sqlite3 DBAPI2 connection. Other DBAPI2 objects are not tested. Please consider using SQLAlchemy.\n",
      "  initial_cs_table = pd.read_sql(query, lims_db.get_connection())\n"
     ]
    },
    {
     "name": "stdout",
     "output_type": "stream",
     "text": [
      "EVENTS SKIPPED\n",
      "dff_frames (len=10000) is not equal to number of split timestamps (len=48471).\n"
     ]
    },
    {
     "name": "stderr",
     "output_type": "stream",
     "text": [
      "ERROR:root:Failed to load ophys_expt_id: 1193675220\n",
      "Traceback (most recent call last):\n",
      "  File \"/home/matt.davis/code/brain_observatory_analysis/brain_observatory_analysis/ophys/experiment_loading.py\", line 291, in get_ophys_expt\n",
      "    experiment = BehaviorOphysExperimentDev(ophys_expt_id,\n",
      "  File \"/home/matt.davis/code/mindscope_qc/mindscope_qc/data_access/behavior_ophys_experiment_dev.py\", line 62, in __init__\n",
      "    self.inner = BehaviorOphysExperiment.from_lims(ophys_experiment_id,\n",
      "  File \"/home/matt.davis/code/AllenSDK/allensdk/brain_observatory/behavior/behavior_ophys_experiment.py\", line 181, in from_lims\n",
      "    cell_specimens = CellSpecimens.from_lims(\n",
      "  File \"/home/matt.davis/code/AllenSDK/allensdk/brain_observatory/behavior/data_objects/cell_specimens/cell_specimens.py\", line 312, in from_lims\n",
      "    return CellSpecimens(\n",
      "  File \"/home/matt.davis/code/AllenSDK/allensdk/brain_observatory/behavior/data_objects/cell_specimens/cell_specimens.py\", line 163, in __init__\n",
      "    ophys_timestamps = ophys_timestamps.validate(\n",
      "  File \"/home/matt.davis/code/AllenSDK/allensdk/brain_observatory/behavior/data_objects/timestamps/ophys_timestamps.py\", line 102, in validate\n",
      "    raise RuntimeError(\n",
      "RuntimeError: dff_frames (len=10000) is not equal to number of split timestamps (len=48471).\n"
     ]
    },
    {
     "name": "stdout",
     "output_type": "stream",
     "text": [
      "EVENTS SKIPPED\n",
      "EVENTS SKIPPED\n",
      "EVENTS SKIPPED\n",
      "EVENTS SKIPPED\n",
      "EVENTS SKIPPED\n",
      "No new_events file for ophys_experiment_id: 1192773597\n"
     ]
    }
   ],
   "source": [
    "tstn=['FIO1', 'FIO2', 'NIO1', 'NIO2', 'NIE1']\n",
    "filters = {\"mouse_name\": \"Copper\", \"targeted_structure\": \"VISp\", \"tiny_session_type_num\": tstn} # \"FIO2\"\n",
    "expt_group_copper_om = ExperimentGroup(expt_table_to_load=expt_table, filters=filters, dev=True)\n",
    "expt_group_copper_om.load_experiments()"
   ]
  },
  {
   "cell_type": "code",
   "execution_count": 57,
   "metadata": {},
   "outputs": [
    {
     "name": "stdout",
     "output_type": "stream",
     "text": [
      "mouse_name ['Bronze']\n",
      "targeted_structure ['VISp']\n",
      "tiny_session_type_num ['FI1']\n",
      "Found 2 experiments matching filters\n",
      "Loading expt: 1182967201\n",
      "\n",
      "Loading expt: 1182967203\n",
      "\n"
     ]
    },
    {
     "name": "stderr",
     "output_type": "stream",
     "text": [
      "/home/matt.davis/code/AllenSDK/allensdk/brain_observatory/behavior/data_objects/stimuli/presentations.py:48: FutureWarning: pandas.Int64Index is deprecated and will be removed from pandas in a future version. Use pandas.Index with the appropriate dtype instead.\n",
      "  presentations.index = pd.Int64Index(\n",
      "/home/matt.davis/code/AllenSDK/allensdk/brain_observatory/behavior/data_objects/stimuli/presentations.py:48: FutureWarning: pandas.Int64Index is deprecated and will be removed from pandas in a future version. Use pandas.Index with the appropriate dtype instead.\n",
      "  presentations.index = pd.Int64Index(\n",
      "/home/matt.davis/code/AllenSDK/allensdk/brain_observatory/behavior/data_objects/eye_tracking/rig_geometry.py:233: UserWarning: pandas only supports SQLAlchemy connectable (engine/connection) or database string URI or sqlite3 DBAPI2 connection. Other DBAPI2 objects are not tested. Please consider using SQLAlchemy.\n",
      "  rig_geometry = pd.read_sql(query, lims_db.get_connection())\n",
      "/home/matt.davis/code/AllenSDK/allensdk/brain_observatory/behavior/data_objects/eye_tracking/rig_geometry.py:233: UserWarning: pandas only supports SQLAlchemy connectable (engine/connection) or database string URI or sqlite3 DBAPI2 connection. Other DBAPI2 objects are not tested. Please consider using SQLAlchemy.\n",
      "  rig_geometry = pd.read_sql(query, lims_db.get_connection())\n",
      "/home/matt.davis/code/AllenSDK/allensdk/brain_observatory/behavior/data_objects/cell_specimens/cell_specimens.py:260: UserWarning: pandas only supports SQLAlchemy connectable (engine/connection) or database string URI or sqlite3 DBAPI2 connection. Other DBAPI2 objects are not tested. Please consider using SQLAlchemy.\n",
      "  initial_cs_table = pd.read_sql(query, lims_db.get_connection())\n",
      "/home/matt.davis/code/AllenSDK/allensdk/brain_observatory/behavior/data_objects/cell_specimens/cell_specimens.py:260: UserWarning: pandas only supports SQLAlchemy connectable (engine/connection) or database string URI or sqlite3 DBAPI2 connection. Other DBAPI2 objects are not tested. Please consider using SQLAlchemy.\n",
      "  initial_cs_table = pd.read_sql(query, lims_db.get_connection())\n"
     ]
    },
    {
     "name": "stdout",
     "output_type": "stream",
     "text": [
      "EVENTS SKIPPED\n",
      "EVENTS SKIPPED\n"
     ]
    }
   ],
   "source": [
    "tstn=['FI1']\n",
    "filters = {\"mouse_name\": \"Bronze\", \"targeted_structure\": \"VISp\", \"tiny_session_type_num\": tstn} # \"FIO2\"\n",
    "expt_group_bronze_fi = ExperimentGroup(expt_table_to_load=expt_table, filters=filters, dev=True)\n",
    "expt_group_bronze_fi.load_experiments()"
   ]
  },
  {
   "cell_type": "code",
   "execution_count": 29,
   "metadata": {},
   "outputs": [
    {
     "name": "stdout",
     "output_type": "stream",
     "text": [
      "mouse_name ['Copper']\n",
      "targeted_structure ['VISp']\n",
      "tiny_session_type_num ['FIO1']\n",
      "Found 2 experiments matching filters\n",
      "Loading expt: 1192574841\n",
      "Loading expt: 1192574838\n",
      "\n",
      "\n"
     ]
    },
    {
     "name": "stderr",
     "output_type": "stream",
     "text": [
      "/home/matt.davis/code/AllenSDK/allensdk/brain_observatory/behavior/data_objects/stimuli/presentations.py:48: FutureWarning: pandas.Int64Index is deprecated and will be removed from pandas in a future version. Use pandas.Index with the appropriate dtype instead.\n",
      "  presentations.index = pd.Int64Index(\n",
      "/home/matt.davis/code/AllenSDK/allensdk/brain_observatory/behavior/data_objects/stimuli/presentations.py:48: FutureWarning: pandas.Int64Index is deprecated and will be removed from pandas in a future version. Use pandas.Index with the appropriate dtype instead.\n",
      "  presentations.index = pd.Int64Index(\n",
      "/home/matt.davis/code/AllenSDK/allensdk/brain_observatory/behavior/data_objects/eye_tracking/rig_geometry.py:233: UserWarning: pandas only supports SQLAlchemy connectable (engine/connection) or database string URI or sqlite3 DBAPI2 connection. Other DBAPI2 objects are not tested. Please consider using SQLAlchemy.\n",
      "  rig_geometry = pd.read_sql(query, lims_db.get_connection())\n",
      "/home/matt.davis/code/AllenSDK/allensdk/brain_observatory/behavior/data_objects/cell_specimens/cell_specimens.py:260: UserWarning: pandas only supports SQLAlchemy connectable (engine/connection) or database string URI or sqlite3 DBAPI2 connection. Other DBAPI2 objects are not tested. Please consider using SQLAlchemy.\n",
      "  initial_cs_table = pd.read_sql(query, lims_db.get_connection())\n",
      "/home/matt.davis/code/AllenSDK/allensdk/brain_observatory/behavior/data_objects/eye_tracking/rig_geometry.py:233: UserWarning: pandas only supports SQLAlchemy connectable (engine/connection) or database string URI or sqlite3 DBAPI2 connection. Other DBAPI2 objects are not tested. Please consider using SQLAlchemy.\n",
      "  rig_geometry = pd.read_sql(query, lims_db.get_connection())\n",
      "/home/matt.davis/code/AllenSDK/allensdk/brain_observatory/behavior/data_objects/cell_specimens/cell_specimens.py:260: UserWarning: pandas only supports SQLAlchemy connectable (engine/connection) or database string URI or sqlite3 DBAPI2 connection. Other DBAPI2 objects are not tested. Please consider using SQLAlchemy.\n",
      "  initial_cs_table = pd.read_sql(query, lims_db.get_connection())\n"
     ]
    },
    {
     "name": "stdout",
     "output_type": "stream",
     "text": [
      "EVENTS SKIPPED\n",
      "EVENTS SKIPPED\n"
     ]
    }
   ],
   "source": [
    "tstn=['FIO1']\n",
    "filters = {\"mouse_name\": \"Copper\", \"targeted_structure\": \"VISp\", \"tiny_session_type_num\": tstn} # \"FIO2\"\n",
    "expt_group_copper_fio = ExperimentGroup(expt_table_to_load=expt_table, filters=filters, dev=True)\n",
    "expt_group_copper_fio.load_experiments()"
   ]
  },
  {
   "cell_type": "code",
   "execution_count": null,
   "metadata": {},
   "outputs": [],
   "source": [
    "filters = {\"mouse_name\": \"Copper\", \"targeted_structure\": \"VISp\"}\n",
    "expt_group_copper_visp = ExperimentGroup(expt_table_to_load=expt_table, filters=filters, dev=True)\n",
    "expt_group_copper_visp.load_experiments()"
   ]
  },
  {
   "cell_type": "code",
   "execution_count": null,
   "metadata": {},
   "outputs": [],
   "source": [
    "filters = {\"mouse_name\": \"Copper\"} \n",
    "expt_group_copper = ExperimentGroup(expt_table_to_load=expt_table, filters=filters, dev=True)\n",
    "expt_group_copper.load_experiments()"
   ]
  },
  {
   "attachments": {},
   "cell_type": "markdown",
   "metadata": {},
   "source": [
    "# Get Mean stim responses"
   ]
  },
  {
   "cell_type": "code",
   "execution_count": null,
   "metadata": {},
   "outputs": [],
   "source": [
    "expt_grp  = expt_group_copper_fio\n",
    "\n",
    "event_type = \"changes\"  # \"changes\" or \"omissions\" or \"all\"\n",
    "data_type = \"dff\"  # \n",
    "mdfs = sr.get_mean_stimulus_response_expt_group(expt_grp,\n",
    "                                                       event_type=event_type,\n",
    "                                                       data_type=data_type,\n",
    "                                                       load_from_file=True)"
   ]
  },
  {
   "cell_type": "code",
   "execution_count": 58,
   "metadata": {},
   "outputs": [
    {
     "name": "stderr",
     "output_type": "stream",
     "text": [
      "Untested extended stimulus processing function (add_response_latency). Use at your own risk.\n",
      "Untested extended stimulus processing function (add_response_latency). Use at your own risk.\n"
     ]
    },
    {
     "name": "stdout",
     "output_type": "stream",
     "text": [
      "       timestamps       dff        events  filtered_events cell_roi_id  \\\n",
      "0        12.14785  0.841453  0.000000e+00     0.000000e+00  1263168633   \n",
      "1        12.24094  0.311590  0.000000e+00     0.000000e+00  1263168633   \n",
      "2        12.33402  0.146515  0.000000e+00     0.000000e+00  1263168633   \n",
      "3        12.42710  0.243601  0.000000e+00     0.000000e+00  1263168633   \n",
      "4        12.52019  0.090661  0.000000e+00     0.000000e+00  1263168633   \n",
      "...           ...       ...           ...              ...         ...   \n",
      "39153  3657.35859 -0.086881 -8.131516e-20    -4.558017e-23  1263168692   \n",
      "39154  3657.45169  0.019546  2.710505e-20     7.429014e-21  1263168692   \n",
      "39155  3657.54480 -0.046016 -4.065758e-20     8.464532e-22  1263168692   \n",
      "39156  3657.63790 -0.100788  1.355253e-20    -4.472852e-21  1263168692   \n",
      "39157  3657.73100 -0.113607  4.065758e-20     5.936727e-21  1263168692   \n",
      "\n",
      "      cell_specimen_id  \n",
      "0           1186085933  \n",
      "1           1186085933  \n",
      "2           1186085933  \n",
      "3           1186085933  \n",
      "4           1186085933  \n",
      "...                ...  \n",
      "39153       1186085988  \n",
      "39154       1186085988  \n",
      "39155       1186085988  \n",
      "39156       1186085988  \n",
      "39157       1186085988  \n",
      "\n",
      "[1448846 rows x 6 columns]\n"
     ]
    },
    {
     "name": "stderr",
     "output_type": "stream",
     "text": [
      "100%|██████████| 37/37 [00:01<00:00, 27.89it/s]\n",
      "Untested extended stimulus processing function (add_response_latency). Use at your own risk.\n",
      "Untested extended stimulus processing function (add_response_latency). Use at your own risk.\n"
     ]
    },
    {
     "name": "stdout",
     "output_type": "stream",
     "text": [
      "       timestamps       dff        events  filtered_events cell_roi_id  \\\n",
      "0        12.14785  0.514811  0.000000e+00         0.000000  1263172221   \n",
      "1        12.24094  0.316641  0.000000e+00         0.000000  1263172221   \n",
      "2        12.33402  0.446411  0.000000e+00         0.000000  1263172221   \n",
      "3        12.42710  0.278654  0.000000e+00         0.000000  1263172221   \n",
      "4        12.52019  0.047797  0.000000e+00         0.000000  1263172221   \n",
      "...           ...       ...           ...              ...         ...   \n",
      "39153  3657.35859  0.128722  0.000000e+00         0.005551  1263172297   \n",
      "39154  3657.45169  0.235075  0.000000e+00         0.005533  1263172297   \n",
      "39155  3657.54480  0.096810  0.000000e+00         0.005503  1263172297   \n",
      "39156  3657.63790  0.082996  0.000000e+00         0.005461  1263172297   \n",
      "39157  3657.73100  0.072804  2.775558e-17         0.005407  1263172297   \n",
      "\n",
      "      cell_specimen_id  \n",
      "0           1186084047  \n",
      "1           1186084047  \n",
      "2           1186084047  \n",
      "3           1186084047  \n",
      "4           1186084047  \n",
      "...                ...  \n",
      "39153       1186084860  \n",
      "39154       1186084860  \n",
      "39155       1186084860  \n",
      "39156       1186084860  \n",
      "39157       1186084860  \n",
      "\n",
      "[2036216 rows x 6 columns]\n"
     ]
    },
    {
     "name": "stderr",
     "output_type": "stream",
     "text": [
      "100%|██████████| 52/52 [00:01<00:00, 27.32it/s]\n"
     ]
    }
   ],
   "source": [
    "expt_grp  = expt_group_bronze_fi\n",
    "\n",
    "event_type = \"changes\"  # \"changes\" or \"omissions\" or \"all\"\n",
    "data_type = \"events\"  # \n",
    "mdfs = sr.get_mean_stimulus_response_expt_group(expt_grp,\n",
    "                                                       event_type=event_type,\n",
    "                                                       data_type=data_type,\n",
    "                                                       load_from_file=True)"
   ]
  },
  {
   "cell_type": "code",
   "execution_count": null,
   "metadata": {},
   "outputs": [],
   "source": [
    "expt_grp  = expt_group_bronze_fi\n",
    "\n",
    "event_type = \"changes\"  # \"changes\" or \"omissions\" or \"all\"\n",
    "data_type = \"filtered_events\"  # \n",
    "mdfs = sr.get_mean_stimulus_response_expt_group(expt_grp,\n",
    "                                                       event_type=event_type,\n",
    "                                                       data_type=data_type,\n",
    "                                                       load_from_file=True)"
   ]
  },
  {
   "cell_type": "code",
   "execution_count": null,
   "metadata": {},
   "outputs": [],
   "source": [
    "expt_grp  = expt_group_copper_om\n",
    "\n",
    "event_type = \"omissions\"  # \"changes\" or \"omissions\" or \"all\"\n",
    "data_type = \"events_filtered\"  # \n",
    "mdfs = sr.get_mean_stimulus_response_expt_group(expt_grp,\n",
    "                                                       event_type=event_type,\n",
    "                                                       data_type=data_type,\n",
    "                                                       load_from_file=True)\n"
   ]
  },
  {
   "attachments": {},
   "cell_type": "markdown",
   "metadata": {},
   "source": [
    "# Debug (ignore)\n"
   ]
  },
  {
   "cell_type": "code",
   "execution_count": 54,
   "metadata": {},
   "outputs": [
    {
     "name": "stdout",
     "output_type": "stream",
     "text": [
      "/allen/programs/mindscope/workgroups/learning/analysis_data_cache/stim_response_df_nrsac/job_records/8996578_4294967294_1217100205.out\n"
     ]
    }
   ],
   "source": [
    "oeid = 1221714645\n",
    "oeid = 1192574838\n",
    "oeid = 1158979080\n",
    "oeid =  1217100205 # has dff , no events\n",
    "path = \"/allen/programs/mindscope/workgroups/learning/analysis_data_cache/stim_response_df_nrsac\"\n",
    "oeid_string = f\"*{oeid}.out\"\n",
    "# bash find 1190425138 in \n",
    "!find /allen/programs/mindscope/workgroups/learning/analysis_data_cache/stim_response_df_nrsac/job_records -name $oeid_string"
   ]
  },
  {
   "cell_type": "code",
   "execution_count": null,
   "metadata": {},
   "outputs": [],
   "source": [
    "oeid =  1217100205 # has dff , no events\n",
    "filters = {\"ophys_experiment_id\": oeid} # \"FIO2\"\n",
    "expt_group_copper_fi = ExperimentGroup(expt_table_to_load=expt_table, filters=filters, dev=True)\n",
    "expt_group_copper_fi.load_experiments()"
   ]
  },
  {
   "cell_type": "code",
   "execution_count": null,
   "metadata": {},
   "outputs": [],
   "source": [
    "expt_grp  = expt_group_copper_fi\n",
    "\n",
    "event_type = \"changes\"  # \"changes\" or \"omissions\" or \"all\"\n",
    "data_type = \"filtered_events\"\n",
    "data_type = \"events\"  # \n",
    "mdfs = sr.get_mean_stimulus_response_expt_group(expt_grp,\n",
    "                                                       event_type=event_type,\n",
    "                                                       data_type=data_type,\n",
    "                                                       load_from_file=True)\n"
   ]
  },
  {
   "cell_type": "code",
   "execution_count": null,
   "metadata": {},
   "outputs": [],
   "source": [
    "for event_type in [\"omissions\", \"changes\"]:\n",
    "    for data_type in [\"events\", \"filtered_events\"]:\n",
    "        expt_table = start_lamf_analysis()\n",
    "        if event_type == \"omissions\":\n",
    "            short_session_types = [\"Familiar Images + omissions\", \"Novel Images + omissions\", \"Novel Images EXTINCTION\"]\n",
    "            expt_table = expt_table[expt_table['short_session_type'].isin(short_session_types)]\n",
    "\n",
    "        expt_ids = expt_table.index.values\n",
    "        print(f\"expt_ids: {len(expt_ids)}\")"
   ]
  }
 ],
 "metadata": {
  "kernelspec": {
   "display_name": "dev",
   "language": "python",
   "name": "python3"
  },
  "language_info": {
   "codemirror_mode": {
    "name": "ipython",
    "version": 3
   },
   "file_extension": ".py",
   "mimetype": "text/x-python",
   "name": "python",
   "nbconvert_exporter": "python",
   "pygments_lexer": "ipython3",
   "version": "3.8.13"
  },
  "orig_nbformat": 4
 },
 "nbformat": 4,
 "nbformat_minor": 2
}
