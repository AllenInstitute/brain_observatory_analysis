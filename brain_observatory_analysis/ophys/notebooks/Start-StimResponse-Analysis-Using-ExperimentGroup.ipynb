{
 "cells": [
  {
   "cell_type": "code",
   "execution_count": 1,
   "metadata": {},
   "outputs": [],
   "source": [
    "from brain_observatory_analysis.ophys.experiment_group import ExperimentGroup\n",
    "from brain_observatory_analysis.ophys.stimulus_response import get_mean_stimulus_response_expt_group\n",
    "from brain_observatory_analysis.ophys.experiment_loading import start_lamf_analysis"
   ]
  },
  {
   "cell_type": "code",
   "execution_count": null,
   "metadata": {},
   "outputs": [],
   "source": [
    "# Use filter, you can filter any key in experiment table\n",
    "filters = {\"mouse_name\": \"Copper\",\n",
    "           \"bisect_layer\": \"upper\",\n",
    "           \"targeted_structure\": \"VISp\"}\n",
    "\n",
    "# use list in filter\n",
    "# filters = {\"mouse_name\": \"Copper\",\n",
    "#            \"bisect_layer\": [\"upper\",\"lower\"],\n",
    "#            \"targeted_structure\": \"VISp\"}\n",
    "\n",
    "\n",
    "# get an experiment table, using the lamf methods for convenience\n",
    "# but you can provide any experiment table\n",
    "\n",
    "expt_table = start_lamf_analysis()\n",
    "\n",
    "# an experimentGroup object is a \n",
    "expt_group_copper = ExperimentGroup(expt_table_preload=expt_table,\n",
    "                                    filters=filters,\n",
    "                                    dev=True,\n",
    "                                    test_mode=True)\n",
    "\n",
    "# actually loads the experiments (mulitprocessing by default)\n",
    "expt_group_copper.load_experiments() \n",
    "\n"
   ]
  },
  {
   "cell_type": "code",
   "execution_count": null,
   "metadata": {},
   "outputs": [],
   "source": [
    "# get mean stimulus response for each experiment in group\n",
    "event_type = \"changes\"  # \"changes\" or \"omissions\" or \"all\"\n",
    "merged_mdfs = get_mean_stimulus_response_expt_group(expt_group_copper, \n",
    "                                                    event_type,\n",
    "                                                    load_from_file = False)"
   ]
  },
  {
   "attachments": {},
   "cell_type": "markdown",
   "metadata": {},
   "source": [
    "# ExperimentGroup object"
   ]
  },
  {
   "attachments": {},
   "cell_type": "markdown",
   "metadata": {},
   "source": [
    "+ A dictionary with key = ophsy_experiment_id and value = BehaviorOphysExperiment(Dev)\n",
    "+ stores corresponding expt_table as expt_ids as attributes\n",
    "+ Only loads experiments explicity after load_experiments() methods called\n",
    "+ Can uses filters dictionary (the keys are in standard or extended_experiment_table) to sort what experiments define the group\n",
    "+ filters can be applied after loading to create subgroups withouts having to reload\n",
    "+ many times experiments fail to load for a myriad of reasons, this object keeps track of those failures\n",
    "+ load_experiments() using multiprocessing by default, which greatly accelerates analysis.\n"
   ]
  },
  {
   "attachments": {},
   "cell_type": "markdown",
   "metadata": {},
   "source": [
    "# Load Experiment Group and filter after loading"
   ]
  },
  {
   "cell_type": "code",
   "execution_count": 2,
   "metadata": {},
   "outputs": [
    {
     "ename": "AttributeError",
     "evalue": "'NoneType' object has no attribute 'index'",
     "output_type": "error",
     "traceback": [
      "\u001b[0;31m---------------------------------------------------------------------------\u001b[0m",
      "\u001b[0;31mAttributeError\u001b[0m                            Traceback (most recent call last)",
      "Cell \u001b[0;32mIn [2], line 5\u001b[0m\n\u001b[1;32m      1\u001b[0m filters \u001b[39m=\u001b[39m {\u001b[39m\"\u001b[39m\u001b[39mmouse_name\u001b[39m\u001b[39m\"\u001b[39m: \u001b[39m\"\u001b[39m\u001b[39mCopper\u001b[39m\u001b[39m\"\u001b[39m}\n\u001b[1;32m      4\u001b[0m \u001b[39m# no experiment table required, defaults to loading all using allensdk\u001b[39;00m\n\u001b[0;32m----> 5\u001b[0m expt_group_copper \u001b[39m=\u001b[39m ExperimentGroup(filters\u001b[39m=\u001b[39;49mfilters,\n\u001b[1;32m      6\u001b[0m                                     dev\u001b[39m=\u001b[39;49m\u001b[39mTrue\u001b[39;49;00m)\n",
      "File \u001b[0;32m~/code/brain_observatory_analysis/brain_observatory_analysis/ophys/experiment_group.py:43\u001b[0m, in \u001b[0;36mExperimentGroup.__init__\u001b[0;34m(self, expt_table_preload, filters, dev, test_mode)\u001b[0m\n\u001b[1;32m     41\u001b[0m \u001b[39mself\u001b[39m\u001b[39m.\u001b[39mdev \u001b[39m=\u001b[39m dev\n\u001b[1;32m     42\u001b[0m \u001b[39mself\u001b[39m\u001b[39m.\u001b[39mexpt_table_preload \u001b[39m=\u001b[39m expt_table_preload\n\u001b[0;32m---> 43\u001b[0m \u001b[39mself\u001b[39m\u001b[39m.\u001b[39mexpt_list_preload \u001b[39m=\u001b[39m \u001b[39mself\u001b[39;49m\u001b[39m.\u001b[39;49mexpt_table_preload\u001b[39m.\u001b[39;49mindex\u001b[39m.\u001b[39mtolist()\n\u001b[1;32m     44\u001b[0m \u001b[39mself\u001b[39m\u001b[39m.\u001b[39mfilters \u001b[39m=\u001b[39m filters\n\u001b[1;32m     45\u001b[0m \u001b[39mself\u001b[39m\u001b[39m.\u001b[39mtest_mode \u001b[39m=\u001b[39m test_mode\n",
      "\u001b[0;31mAttributeError\u001b[0m: 'NoneType' object has no attribute 'index'"
     ]
    }
   ],
   "source": [
    "filters = {\"mouse_name\": \"Copper\"}\n",
    "\n",
    "\n",
    "# no experiment table required, defaults to loading all using allensdk\n",
    "expt_group_copper = ExperimentGroup(filters=filters,\n",
    "                                    dev=True)"
   ]
  }
 ],
 "metadata": {
  "kernelspec": {
   "display_name": "allenvisb",
   "language": "python",
   "name": "python3"
  },
  "language_info": {
   "codemirror_mode": {
    "name": "ipython",
    "version": 3
   },
   "file_extension": ".py",
   "mimetype": "text/x-python",
   "name": "python",
   "nbconvert_exporter": "python",
   "pygments_lexer": "ipython3",
   "version": "3.8.13 (default, Oct 19 2022, 22:38:03) [MSC v.1916 64 bit (AMD64)]"
  },
  "orig_nbformat": 4,
  "vscode": {
   "interpreter": {
    "hash": "f38f125ca7a4365ded92298238ddd4d6a681625157c70af5c9711f987c5831ee"
   }
  }
 },
 "nbformat": 4,
 "nbformat_minor": 2
}
