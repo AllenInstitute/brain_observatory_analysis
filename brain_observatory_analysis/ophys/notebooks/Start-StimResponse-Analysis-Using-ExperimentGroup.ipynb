{
 "cells": [
  {
   "cell_type": "code",
   "execution_count": null,
   "metadata": {},
   "outputs": [],
   "source": [
    "from brain_observatory_analysis.ophys.experiment_group import ExperimentGroup\n",
    "from brain_observatory_analysis.ophys.stimulus_response import get_mean_stimulus_response_expt_group\n",
    "from brain_observatory_analysis.ophys.experiment_loading import start_lamf_analysis"
   ]
  },
  {
   "cell_type": "code",
   "execution_count": null,
   "metadata": {},
   "outputs": [],
   "source": [
    "# Use filter, you can filter any key in experiment table\n",
    "filters = {\"mouse_name\": \"Copper\",\n",
    "           \"bisect_layer\": \"upper\",\n",
    "           \"targeted_structure\": \"VISp\"}\n",
    "\n",
    "# use list in filter\n",
    "# filters = {\"mouse_name\": \"Copper\",\n",
    "#            \"bisect_layer\": [\"upper\",\"lower\"],\n",
    "#            \"targeted_structure\": \"VISp\"}\n",
    "\n",
    "\n",
    "# get an experiment table, using the lamf methods for convenience\n",
    "# but you can provide any experiment table\n",
    "\n",
    "expt_table = start_lamf_analysis()\n",
    "\n",
    "# an experimentGroup object is a \n",
    "expt_group_copper = ExperimentGroup(expt_table_preload=expt_table,\n",
    "                                    filters=filters,\n",
    "                                    dev=True)\n",
    "\n",
    "# actually loads the experiments (mulitprocessing by default)\n",
    "expt_group_copper.load_experiments() \n",
    "\n",
    "# get mean stimulus response for each experiment in group\n",
    "event_type = \"changes\"  # \"changes\" or \"omissions\" or \"all\"\n",
    "merged_mdfs = get_mean_stimulus_response_expt_group(expt_group_copper, \n",
    "                                                    event_type,\n",
    "                                                    load_from_file = False)"
   ]
  },
  {
   "attachments": {},
   "cell_type": "markdown",
   "metadata": {},
   "source": [
    "# ExperimentGroup object"
   ]
  },
  {
   "attachments": {},
   "cell_type": "markdown",
   "metadata": {},
   "source": [
    "+ A dictionary with key = ophsy_experiment_id and value = BehaviorOphysExperiment(Dev)\n",
    "+ stores corresponding expt_table as expt_ids as attributes\n",
    "+ Only loads experiments explicity after load_experiments() methods called\n",
    "+ Can uses filters dictionary (the keys are in standard or extended_experiment_table) to sort what experiments define the group\n",
    "+ filters can be applied after loading to create subgroups withouts having to reload\n",
    "+ many times experiments fail to load for a myriad of reasons, this object keeps track of those failures\n",
    "+ load_experiments() using multiprocessing by default, which greatly accelerates analysis.\n"
   ]
  }
 ],
 "metadata": {
  "kernelspec": {
   "display_name": "dev",
   "language": "python",
   "name": "python3"
  },
  "language_info": {
   "name": "python",
   "version": "3.8.13 (default, Mar 28 2022, 11:38:47) \n[GCC 7.5.0]"
  },
  "orig_nbformat": 4,
  "vscode": {
   "interpreter": {
    "hash": "1be5ac52d6ff9c8fd5519b6c41825561759d7210ad384b858136d5c81467ad3e"
   }
  }
 },
 "nbformat": 4,
 "nbformat_minor": 2
}
