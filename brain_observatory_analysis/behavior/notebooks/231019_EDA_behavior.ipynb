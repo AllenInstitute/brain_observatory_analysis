{
 "cells": [
  {
   "cell_type": "markdown",
   "id": "b360e4a5-0bb2-45a2-b636-3832901571be",
   "metadata": {},
   "source": [
    "Notebook to wranggle behavioral data from LAMF project\n",
    "\n",
    "1. Pupil\n",
    "2. Running\n",
    "3. Licking"
   ]
  },
  {
   "cell_type": "code",
   "execution_count": 15,
   "id": "4e7af200-5cdc-4a62-be9d-d8ee12ca0af3",
   "metadata": {},
   "outputs": [
    {
     "ename": "ImportError",
     "evalue": "cannot import name 'recent_expts' from 'brain_observatory_analysis.ophys.experiment_loading' (c:\\users\\iryna.yavorska\\documents\\github\\brain_observatory_analysis\\brain_observatory_analysis\\ophys\\experiment_loading.py)",
     "output_type": "error",
     "traceback": [
      "\u001b[1;31m---------------------------------------------------------------------------\u001b[0m",
      "\u001b[1;31mImportError\u001b[0m                               Traceback (most recent call last)",
      "Cell \u001b[1;32mIn[15], line 8\u001b[0m\n\u001b[0;32m      6\u001b[0m \u001b[38;5;28;01mfrom\u001b[39;00m \u001b[38;5;21;01mtqdm\u001b[39;00m \u001b[38;5;28;01mimport\u001b[39;00m tqdm\n\u001b[0;32m      7\u001b[0m \u001b[38;5;28;01mfrom\u001b[39;00m \u001b[38;5;21;01mmatplotlib\u001b[39;00m \u001b[38;5;28;01mimport\u001b[39;00m pyplot \u001b[38;5;28;01mas\u001b[39;00m plt\n\u001b[1;32m----> 8\u001b[0m \u001b[38;5;28;01mfrom\u001b[39;00m \u001b[38;5;21;01mbrain_observatory_analysis\u001b[39;00m\u001b[38;5;21;01m.\u001b[39;00m\u001b[38;5;21;01mophys\u001b[39;00m\u001b[38;5;21;01m.\u001b[39;00m\u001b[38;5;21;01mexperiment_loading\u001b[39;00m \u001b[38;5;28;01mimport\u001b[39;00m start_lamf_analysis, recent_expts\n\u001b[0;32m     10\u001b[0m \u001b[38;5;28;01mimport\u001b[39;00m \u001b[38;5;21;01mseaborn\u001b[39;00m \u001b[38;5;28;01mas\u001b[39;00m \u001b[38;5;21;01msns\u001b[39;00m\n\u001b[0;32m     11\u001b[0m sns\u001b[38;5;241m.\u001b[39mset_context(\u001b[38;5;124m'\u001b[39m\u001b[38;5;124mnotebook\u001b[39m\u001b[38;5;124m'\u001b[39m, font_scale\u001b[38;5;241m=\u001b[39m\u001b[38;5;241m1.5\u001b[39m, rc\u001b[38;5;241m=\u001b[39m{\u001b[38;5;124m'\u001b[39m\u001b[38;5;124mlines.markeredgewidth\u001b[39m\u001b[38;5;124m'\u001b[39m: \u001b[38;5;241m2\u001b[39m})\n",
      "\u001b[1;31mImportError\u001b[0m: cannot import name 'recent_expts' from 'brain_observatory_analysis.ophys.experiment_loading' (c:\\users\\iryna.yavorska\\documents\\github\\brain_observatory_analysis\\brain_observatory_analysis\\ophys\\experiment_loading.py)"
     ]
    }
   ],
   "source": [
    "import os\n",
    "import tensortools\n",
    "import numpy as np\n",
    "import pandas as pd\n",
    "import xarray as xr\n",
    "from tqdm import tqdm\n",
    "from matplotlib import pyplot as plt\n",
    "from brain_observatory_analysis.ophys.experiment_loading import start_lamf_analysis, recent_expts\n",
    "\n",
    "import seaborn as sns\n",
    "sns.set_context('notebook', font_scale=1.5, rc={'lines.markeredgewidth': 2})\n",
    "\n",
    "from brain_observatory_qc.data_access import from_lims_utilities\n",
    "import glob\n",
    "from brain_observatory_analysis.behavior.video_qc import annotation_tools\n",
    "from mindscope_utilities import general_utilities\n",
    "\n",
    "%load_ext autoreload\n",
    "%autoreload 2\n",
    "%matplotlib inline\n",
    "\n",
    "import warnings; warnings.filterwarnings('ignore')"
   ]
  },
  {
   "cell_type": "code",
   "execution_count": null,
   "id": "0f70c097-f655-44e5-91b9-0b63b22542dc",
   "metadata": {},
   "outputs": [],
   "source": []
  },
  {
   "cell_type": "code",
   "execution_count": 5,
   "id": "e700a9db-6dd1-422b-9638-36bbe525fbfb",
   "metadata": {},
   "outputs": [
    {
     "name": "stdout",
     "output_type": "stream",
     "text": [
      "Should be on older version of allensdk branch, let MJD know if not\n"
     ]
    }
   ],
   "source": [
    "expt_table = start_lamf_analysis()"
   ]
  },
  {
   "cell_type": "code",
   "execution_count": 6,
   "id": "7e7ec785-36c8-4ae5-95a3-bca0678500f0",
   "metadata": {},
   "outputs": [
    {
     "data": {
      "text/plain": [
       "array(['Gold', 'Silicon', 'Silver', 'Bronze', 'Copper', 'Titanium',\n",
       "       'Aluminum', 'Mercury', 'Iron'], dtype=object)"
      ]
     },
     "execution_count": 6,
     "metadata": {},
     "output_type": "execute_result"
    }
   ],
   "source": [
    "expt_table.mouse_name.unique()"
   ]
  },
  {
   "cell_type": "code",
   "execution_count": 8,
   "id": "87c1509b-3c8b-4f70-89a7-d338684b20bc",
   "metadata": {},
   "outputs": [],
   "source": [
    "from allensdk.brain_observatory.behavior.behavior_project_cache import VisualBehaviorOphysProjectCache\n",
    "\n",
    "cache = VisualBehaviorOphysProjectCache.from_lims()\n",
    "experiment_table = cache.get_ophys_experiment_table()"
   ]
  },
  {
   "cell_type": "code",
   "execution_count": 12,
   "id": "e1ea9b94-d691-4969-a70e-176658fff225",
   "metadata": {},
   "outputs": [
    {
     "data": {
      "text/plain": [
       "array(['VisualBehaviorMultiscope', 'VisualBehaviorTask1B',\n",
       "       'VisualBehavior', 'VisualBehaviorMultiscope4areasx2d'],\n",
       "      dtype=object)"
      ]
     },
     "execution_count": 12,
     "metadata": {},
     "output_type": "execute_result"
    }
   ],
   "source": [
    "experiment_table.project_code.unique()"
   ]
  },
  {
   "cell_type": "code",
   "execution_count": 9,
   "id": "b016f18a-1c0d-4684-a70a-a9b7fd0a2d13",
   "metadata": {},
   "outputs": [],
   "source": [
    "import allensdk"
   ]
  },
  {
   "cell_type": "code",
   "execution_count": 10,
   "id": "13c1593a-491d-4afc-9fd5-c48efc368e8f",
   "metadata": {},
   "outputs": [
    {
     "data": {
      "text/plain": [
       "'2.13.5'"
      ]
     },
     "execution_count": 10,
     "metadata": {},
     "output_type": "execute_result"
    }
   ],
   "source": [
    "allensdk.__version__"
   ]
  },
  {
   "cell_type": "code",
   "execution_count": null,
   "id": "8d222212-f786-41b4-a88a-e7f547205f4a",
   "metadata": {},
   "outputs": [],
   "source": []
  }
 ],
 "metadata": {
  "kernelspec": {
   "display_name": "mFish_glm",
   "language": "python",
   "name": "mfish_glm"
  },
  "language_info": {
   "codemirror_mode": {
    "name": "ipython",
    "version": 3
   },
   "file_extension": ".py",
   "mimetype": "text/x-python",
   "name": "python",
   "nbconvert_exporter": "python",
   "pygments_lexer": "ipython3",
   "version": "3.8.16"
  }
 },
 "nbformat": 4,
 "nbformat_minor": 5
}
